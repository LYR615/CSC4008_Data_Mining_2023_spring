{
 "cells": [
  {
   "cell_type": "code",
   "execution_count": 1,
   "id": "77143910",
   "metadata": {},
   "outputs": [],
   "source": [
    "import numpy as np"
   ]
  },
  {
   "cell_type": "code",
   "execution_count": 2,
   "id": "f3735fae",
   "metadata": {},
   "outputs": [],
   "source": [
    "m = 9985\n",
    "n = 563  "
   ]
  },
  {
   "cell_type": "code",
   "execution_count": 3,
   "id": "02b4ca49",
   "metadata": {},
   "outputs": [],
   "source": [
    "with open(\"/Users/azura/Desktop/shows.txt\", 'r') as file:\n",
    "    lines = file.readlines()\n",
    "\n",
    "shows = [line.strip() for line in lines]  "
   ]
  },
  {
   "cell_type": "code",
   "execution_count": 4,
   "id": "bfc415e7",
   "metadata": {},
   "outputs": [],
   "source": [
    "with open(\"/Users/azura/Desktop/user-shows.txt\", 'r') as file:\n",
    "    data = file.read()\n",
    "\n",
    "data_list = [int(number) for number in data.split()]\n",
    "\n",
    "R = np.array(data_list).reshape(m, n)  "
   ]
  },
  {
   "cell_type": "code",
   "execution_count": 5,
   "id": "36440a29",
   "metadata": {},
   "outputs": [],
   "source": [
    "row_sums = np.sum(R, axis=1)\n",
    "P = np.diag(row_sums)\n",
    "P_ = np.diag(1 / np.sqrt(row_sums))\n",
    "\n",
    "col_sums = np.sum(R, axis=0)\n",
    "Q = np.diag(col_sums)  \n",
    "Q_ = np.diag(1 / np.sqrt(col_sums))  "
   ]
  },
  {
   "cell_type": "markdown",
   "id": "be72f8b9",
   "metadata": {},
   "source": [
    "## 1. User - user based CF    \n",
    "$\\Gamma = P^{-\\frac{1}{2}} R R^T P^{-\\frac{1}{2}} R = P\\_ R R^T P\\_ R$        "
   ]
  },
  {
   "cell_type": "code",
   "execution_count": 6,
   "id": "54a0d227",
   "metadata": {},
   "outputs": [],
   "source": [
    "Gamma_u = P_ @ R @ R.T @ P_ @ R  "
   ]
  },
  {
   "cell_type": "code",
   "execution_count": 7,
   "id": "c05f21fb",
   "metadata": {},
   "outputs": [],
   "source": [
    "Gamma_u_index = np.argsort(Gamma_u[499, :100])[::-1][:5]      "
   ]
  },
  {
   "cell_type": "code",
   "execution_count": 8,
   "id": "89c5a1c4",
   "metadata": {},
   "outputs": [
    {
     "name": "stdout",
     "output_type": "stream",
     "text": [
      "['\"FOX 28 News at 10pm\"', '\"Family Guy\"', '\"2009 NCAA Basketball Tournament\"', '\"NBC 4 at Eleven\"', '\"Two and a Half Men\"']\n"
     ]
    }
   ],
   "source": [
    "recommendation_u = [shows[i] for i in Gamma_u_index]  \n",
    "print(recommendation_u)    "
   ]
  },
  {
   "cell_type": "markdown",
   "id": "906795a3",
   "metadata": {},
   "source": [
    "## 2. Item - item based CF  \n",
    "$\\Gamma = R Q^{-\\frac{1}{2}} R^T R Q^{-\\frac{1}{2}} = R Q\\_ R^T R Q\\_ $     "
   ]
  },
  {
   "cell_type": "code",
   "execution_count": 9,
   "id": "40a7075b",
   "metadata": {},
   "outputs": [],
   "source": [
    "Gamma_i = R @ Q_ @ R.T @ R @ Q_    "
   ]
  },
  {
   "cell_type": "code",
   "execution_count": 10,
   "id": "a31a4582",
   "metadata": {},
   "outputs": [],
   "source": [
    "Gamma_i_index = np.argsort(Gamma_i[499, :100])[::-1][:5]   "
   ]
  },
  {
   "cell_type": "code",
   "execution_count": 11,
   "id": "510272d3",
   "metadata": {},
   "outputs": [
    {
     "name": "stdout",
     "output_type": "stream",
     "text": [
      "['\"FOX 28 News at 10pm\"', '\"Family Guy\"', '\"NBC 4 at Eleven\"', '\"2009 NCAA Basketball Tournament\"', '\"Access Hollywood\"']\n"
     ]
    }
   ],
   "source": [
    "recommendation_i = [shows[i] for i in Gamma_i_index]  \n",
    "print(recommendation_i)      "
   ]
  }
 ],
 "metadata": {
  "kernelspec": {
   "display_name": "Python 3 (ipykernel)",
   "language": "python",
   "name": "python3"
  },
  "language_info": {
   "codemirror_mode": {
    "name": "ipython",
    "version": 3
   },
   "file_extension": ".py",
   "mimetype": "text/x-python",
   "name": "python",
   "nbconvert_exporter": "python",
   "pygments_lexer": "ipython3",
   "version": "3.9.7"
  }
 },
 "nbformat": 4,
 "nbformat_minor": 5
}
