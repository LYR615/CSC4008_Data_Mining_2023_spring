{
  "cells": [
    {
      "cell_type": "markdown",
      "metadata": {
        "id": "wiQh7YOaGnLz"
      },
      "source": [
        "## **Configurations**"
      ]
    },
    {
      "cell_type": "code",
      "execution_count": 1,
      "metadata": {
        "colab": {
          "base_uri": "https://localhost:8080/"
        },
        "id": "P8XF4tW5GZEI",
        "outputId": "5ce5ae60-fe91-46cf-dacc-3c5ed3e94085"
      },
      "outputs": [
        {
          "name": "stdout",
          "output_type": "stream",
          "text": [
            "Looking in indexes: https://pypi.org/simple, https://us-python.pkg.dev/colab-wheels/public/simple/\n",
            "Requirement already satisfied: pyspark in /usr/local/lib/python3.9/dist-packages (3.3.2)\n",
            "Requirement already satisfied: py4j==0.10.9.5 in /usr/local/lib/python3.9/dist-packages (from pyspark) (0.10.9.5)\n",
            "openjdk-8-jdk-headless is already the newest version (8u362-ga-0ubuntu1~20.04.1).\n",
            "0 upgraded, 0 newly installed, 0 to remove and 24 not upgraded.\n"
          ]
        }
      ],
      "source": [
        "!pip install pyspark\n",
        "!pip install -U -q PyDrive\n",
        "!apt install openjdk-8-jdk-headless -qq"
      ]
    },
    {
      "cell_type": "code",
      "execution_count": 2,
      "metadata": {
        "id": "1xasYqMQGnza"
      },
      "outputs": [],
      "source": [
        "import os\n",
        "os.environ[\"JAVA_HOME\"] = \"/usr/lib/jvm/java-8-openjdk-amd64\""
      ]
    },
    {
      "cell_type": "code",
      "execution_count": 3,
      "metadata": {
        "id": "Sp6xm7Y-GvJG"
      },
      "outputs": [],
      "source": [
        "from pydrive.auth import GoogleAuth\n",
        "from pydrive.drive import GoogleDrive\n",
        "from google.colab import auth\n",
        "from oauth2client.client import GoogleCredentials\n",
        "\n",
        "# Authenticate and create the PyDrive client\n",
        "auth.authenticate_user()\n",
        "gauth = GoogleAuth()\n",
        "gauth.credentials = GoogleCredentials.get_application_default()\n",
        "drive = GoogleDrive(gauth)"
      ]
    },
    {
      "cell_type": "code",
      "execution_count": 5,
      "metadata": {
        "id": "IWLI6lZ0G8PK"
      },
      "outputs": [],
      "source": [
        "import pandas as pd\n",
        "import numpy as np\n",
        "import matplotlib.pyplot as plt\n",
        "%matplotlib inline\n",
        "\n",
        "import pyspark\n",
        "from pyspark.sql import *\n",
        "from pyspark.sql.functions import *\n",
        "from pyspark import SparkContext, SparkConf"
      ]
    },
    {
      "cell_type": "code",
      "execution_count": 6,
      "metadata": {
        "id": "8dkI_n0qHGV_"
      },
      "outputs": [],
      "source": [
        "# create the session\n",
        "conf = SparkConf().set(\"spark.ui.port\", \"4050\")\n",
        "\n",
        "# create the context\n",
        "sc = pyspark.SparkContext(conf=conf)\n",
        "spark = SparkSession.builder.getOrCreate()"
      ]
    },
    {
      "cell_type": "markdown",
      "metadata": {
        "id": "Wr4sojbkWLjE"
      },
      "source": [
        "## **Q1**"
      ]
    },
    {
      "cell_type": "code",
      "execution_count": 31,
      "metadata": {
        "id": "EJPunvj4HTpA"
      },
      "outputs": [],
      "source": [
        "rdd = sc.textFile(\"graph-full.txt\")      "
      ]
    },
    {
      "cell_type": "code",
      "execution_count": 32,
      "metadata": {
        "id": "ArSYW2p804Ee"
      },
      "outputs": [],
      "source": [
        "n = 1000     \n",
        "beta = 0.8     \n",
        "max_iteration = 40"
      ]
    },
    {
      "cell_type": "code",
      "execution_count": 33,
      "metadata": {
        "id": "rRbn6ttzY84V"
      },
      "outputs": [],
      "source": [
        "edges = rdd.map(lambda x: x.split())\\\n",
        "           .map(lambda x: (int(x[0]), int(x[1])))\\\n",
        "           .distinct()    \n",
        "\n",
        "reverse_edges = edges.map(lambda x: (x[1], x[0]))            "
      ]
    },
    {
      "cell_type": "code",
      "execution_count": 34,
      "metadata": {
        "id": "dKNHZ9-DtcxX"
      },
      "outputs": [],
      "source": [
        "out_degrees = edges.groupByKey().mapValues(lambda x: len(x))      \n",
        "out_degrees_dict = out_degrees.collectAsMap()                    "
      ]
    },
    {
      "cell_type": "code",
      "execution_count": 35,
      "metadata": {
        "id": "zXdl8gbzbhPt"
      },
      "outputs": [],
      "source": [
        "r = [(i, 1/n) for i in range(1, n + 1)]  # r: = (i, r_i) r_i is initialized with 1/N       "
      ]
    },
    {
      "cell_type": "code",
      "execution_count": 36,
      "metadata": {
        "id": "2FFr0Fkot4E6"
      },
      "outputs": [],
      "source": [
        "for i in range(max_iteration):          \n",
        "  r = sc.parallelize(r)  \n",
        "  r_dict = r.collectAsMap()   \n",
        "\n",
        "  update_r = reverse_edges.map(lambda x: (x[0], r_dict[x[1]]/out_degrees_dict[x[1]]))\\\n",
        "                .reduceByKey(lambda x, y: x + y)\\\n",
        "                .map(lambda x: (x[0], beta * x[1] + (1 - beta)/ n))  \n",
        "\n",
        "  r = r.union(update_r).reduceByKey(lambda x, y: y)\n",
        "  r = r.collect()     "
      ]
    },
    {
      "cell_type": "code",
      "execution_count": 37,
      "metadata": {
        "colab": {
          "base_uri": "https://localhost:8080/"
        },
        "id": "bb_aAR2TcJrH",
        "outputId": "9028acfd-ea6b-4f04-8dab-1265887b2843"
      },
      "outputs": [
        {
          "name": "stdout",
          "output_type": "stream",
          "text": [
            "the top 5 node ids with the highest PageRank scores:  \n",
            " [(263, 0.002020291181518219), (537, 0.0019433415714531497), (965, 0.0019254478071662631), (243, 0.001852634016241731), (285, 0.0018273721700645144)]\n",
            "the bottom 5 node ids with the lowest PageRank scores:  \n",
            " [(558, 0.0003286018525215297), (93, 0.00035135689375165774), (62, 0.00035314810510596274), (424, 0.00035481538649301454), (408, 0.00038779848719291705)]\n"
          ]
        }
      ],
      "source": [
        "r = sc.parallelize(r)    \n",
        "   \n",
        "sorted_r = r.sortBy(lambda x: x[1], ascending=False)\n",
        "top_five_r = sorted_r.take(5)\n",
        "bottom_five_r = sorted_r.takeOrdered(5, key=lambda x: x[1])\n",
        "\n",
        "print(\"the top 5 node ids with the highest PageRank scores: \", \"\\n\", top_five_r)\n",
        "print(\"the bottom 5 node ids with the lowest PageRank scores: \", \"\\n\", bottom_five_r)"
      ]
    },
    {
      "cell_type": "code",
      "execution_count": null,
      "metadata": {
        "id": "ZrfAeW4S2RGc"
      },
      "outputs": [],
      "source": []
    }
  ],
  "metadata": {
    "colab": {
      "provenance": []
    },
    "kernelspec": {
      "display_name": "Python 3",
      "name": "python3"
    },
    "language_info": {
      "name": "python"
    }
  },
  "nbformat": 4,
  "nbformat_minor": 0
}
