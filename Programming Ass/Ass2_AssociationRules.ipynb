{
  "cells": [
    {
      "cell_type": "markdown",
      "metadata": {
        "id": "wiQh7YOaGnLz"
      },
      "source": [
        "## **Configurations**"
      ]
    },
    {
      "cell_type": "code",
      "execution_count": 1,
      "metadata": {
        "colab": {
          "base_uri": "https://localhost:8080/"
        },
        "id": "P8XF4tW5GZEI",
        "outputId": "3c79879f-09dd-4b57-f6ea-6380d19f8666"
      },
      "outputs": [
        {
          "name": "stdout",
          "output_type": "stream",
          "text": [
            "Looking in indexes: https://pypi.org/simple, https://us-python.pkg.dev/colab-wheels/public/simple/\n",
            "Requirement already satisfied: pyspark in /usr/local/lib/python3.9/dist-packages (3.3.2)\n",
            "Requirement already satisfied: py4j==0.10.9.5 in /usr/local/lib/python3.9/dist-packages (from pyspark) (0.10.9.5)\n",
            "openjdk-8-jdk-headless is already the newest version (8u362-ga-0ubuntu1~20.04.1).\n",
            "0 upgraded, 0 newly installed, 0 to remove and 23 not upgraded.\n"
          ]
        }
      ],
      "source": [
        "!pip install pyspark\n",
        "!pip install -U -q PyDrive\n",
        "!apt install openjdk-8-jdk-headless -qq"
      ]
    },
    {
      "cell_type": "code",
      "execution_count": 2,
      "metadata": {
        "id": "1xasYqMQGnza"
      },
      "outputs": [],
      "source": [
        "import os\n",
        "os.environ[\"JAVA_HOME\"] = \"/usr/lib/jvm/java-8-openjdk-amd64\""
      ]
    },
    {
      "cell_type": "code",
      "execution_count": 3,
      "metadata": {
        "id": "Sp6xm7Y-GvJG"
      },
      "outputs": [],
      "source": [
        "from pydrive.auth import GoogleAuth\n",
        "from pydrive.drive import GoogleDrive\n",
        "from google.colab import auth\n",
        "from oauth2client.client import GoogleCredentials\n",
        "\n",
        "# Authenticate and create the PyDrive client\n",
        "auth.authenticate_user()\n",
        "gauth = GoogleAuth()\n",
        "gauth.credentials = GoogleCredentials.get_application_default()\n",
        "drive = GoogleDrive(gauth)"
      ]
    },
    {
      "cell_type": "code",
      "execution_count": 5,
      "metadata": {
        "id": "IWLI6lZ0G8PK"
      },
      "outputs": [],
      "source": [
        "import pandas as pd\n",
        "import numpy as np\n",
        "import matplotlib.pyplot as plt\n",
        "%matplotlib inline\n",
        "\n",
        "import pyspark\n",
        "from pyspark.sql import *\n",
        "from pyspark.sql.functions import *\n",
        "from pyspark import SparkContext, SparkConf"
      ]
    },
    {
      "cell_type": "markdown",
      "metadata": {
        "id": "UK9SX8zLG_Af"
      },
      "source": [
        "## **（C）**"
      ]
    },
    {
      "cell_type": "code",
      "execution_count": 6,
      "metadata": {
        "id": "8dkI_n0qHGV_"
      },
      "outputs": [],
      "source": [
        "# create the session\n",
        "conf = SparkConf().set(\"spark.ui.port\", \"4050\")\n",
        "\n",
        "# create the context\n",
        "sc = pyspark.SparkContext(conf=conf)\n",
        "spark = SparkSession.builder.getOrCreate()"
      ]
    },
    {
      "cell_type": "code",
      "execution_count": 7,
      "metadata": {
        "id": "EJPunvj4HTpA"
      },
      "outputs": [],
      "source": [
        "rdd = sc.textFile(\"browsing.txt\")"
      ]
    },
    {
      "cell_type": "code",
      "execution_count": 8,
      "metadata": {
        "id": "_v6UeWiTI07O"
      },
      "outputs": [],
      "source": [
        "item_distinct = rdd.map(lambda x: list(set(x.split())))\n",
        "#item_distinct.take(5)  \n",
        "\n",
        "item_distinct_ = item_distinct.flatMap(lambda x: x).map(lambda x: (x, 1))\n",
        "#item_distinct_.take(10)"
      ]
    },
    {
      "cell_type": "code",
      "execution_count": 9,
      "metadata": {
        "id": "yg8waqXmSSvZ"
      },
      "outputs": [],
      "source": [
        "frequent_items_counts = item_distinct.flatMap(lambda x: x)\\\n",
        "                              .map(lambda x: (x, 1))\\\n",
        "                              .reduceByKey(lambda x, y: x + y)\\\n",
        "                              .filter(lambda x: x[1] >= 100)\n",
        "# frequent_items_counts.take(5)\n",
        "# frequent_items_counts.count()"
      ]
    },
    {
      "cell_type": "code",
      "execution_count": 10,
      "metadata": {
        "id": "ZhlCXPJ4zdPg"
      },
      "outputs": [],
      "source": [
        "frequent_items_counts_dict = frequent_items_counts.collectAsMap()"
      ]
    },
    {
      "cell_type": "code",
      "execution_count": 11,
      "metadata": {
        "id": "8eZdw2IWrWTn"
      },
      "outputs": [],
      "source": [
        "frequent_items_list = frequent_items_counts.map(lambda x: x[0])\\\n",
        "                                      .collect()"
      ]
    },
    {
      "cell_type": "code",
      "execution_count": 12,
      "metadata": {
        "id": "BNnAXdXnvoWT"
      },
      "outputs": [],
      "source": [
        "import itertools\n",
        "def filter_pairs(basket, frequent, k):\n",
        "\n",
        "    intersection = sorted(list(set(basket) & set(frequent)))\n",
        "  \n",
        "    combination_list = list(itertools.combinations(intersection, k))\n",
        "\n",
        "    return combination_list"
      ]
    },
    {
      "cell_type": "code",
      "execution_count": 13,
      "metadata": {
        "id": "NOzaj0kQ3qr5"
      },
      "outputs": [],
      "source": [
        "frequent_pairs_counts = item_distinct.flatMap(lambda basket: filter_pairs(basket, frequent_items_list, 2))\\\n",
        "                                     .map(lambda x: (tuple(x),1))\\\n",
        "                                     .reduceByKey(lambda x, y: x + y)\\\n",
        "                                     .filter(lambda x: x[1] >= 100)\n",
        "#frequent_pairs_counts.take(5)                                    "
      ]
    },
    {
      "cell_type": "code",
      "execution_count": 14,
      "metadata": {
        "id": "JZF2r5EkU_i4"
      },
      "outputs": [],
      "source": [
        "frequent_pairs_list = frequent_pairs_counts.map(lambda x: x[0])\\\n",
        "                                           .collect()\n",
        "#frequent_pairs_list[:10]                                    "
      ]
    },
    {
      "cell_type": "code",
      "execution_count": 15,
      "metadata": {
        "id": "WpWPIQlTORRx"
      },
      "outputs": [],
      "source": [
        "frequent_pairs_basket = item_distinct.map(lambda basket: filter_pairs(basket, frequent_items_list, 2))\\\n",
        "                                     .map(lambda x: sorted(list(set(x) & set(frequent_pairs_list))))\n",
        "\n",
        "#frequent_pairs_basket.take(5)"
      ]
    },
    {
      "cell_type": "code",
      "execution_count": 16,
      "metadata": {
        "colab": {
          "base_uri": "https://localhost:8080/"
        },
        "id": "eYQc2w8EmbUV",
        "outputId": "1d62ee93-0327-4409-c429-7c16990de5cd"
      },
      "outputs": [
        {
          "data": {
            "text/plain": [
              "[(('DAI93865', 'FRO40251'), 1.0),\n",
              " (('GRO85051', 'FRO40251'), 0.999176276771005),\n",
              " (('GRO38636', 'FRO40251'), 0.9906542056074766),\n",
              " (('ELE12951', 'FRO40251'), 0.9905660377358491),\n",
              " (('DAI88079', 'FRO40251'), 0.9867256637168141)]"
            ]
          },
          "execution_count": 16,
          "metadata": {},
          "output_type": "execute_result"
        }
      ],
      "source": [
        "answer_c = frequent_pairs_counts.flatMap(lambda x: (((x[0][0],x[0][1]),x[1]), ((x[0][1],x[0][0]), x[1])))\\\n",
        "                                        .map(lambda x: (x[0], x[1]/frequent_items_counts_dict[x[0][0]])).sortBy(lambda x: x[1], False) \n",
        "answer_c.take(5)"
      ]
    },
    {
      "cell_type": "markdown",
      "metadata": {
        "id": "aDh-T4_d3qP0"
      },
      "source": [
        "## **（d）**"
      ]
    },
    {
      "cell_type": "code",
      "execution_count": 17,
      "metadata": {
        "id": "z4b_Gkt-TW0i"
      },
      "outputs": [],
      "source": [
        "frequent_pairs_counts_dict = frequent_pairs_counts.collectAsMap()"
      ]
    },
    {
      "cell_type": "code",
      "execution_count": 18,
      "metadata": {
        "id": "WS7F9RMmDMuK"
      },
      "outputs": [],
      "source": [
        "def combine_frequent_pairs(lst):\n",
        "  triples = set()\n",
        "\n",
        "  for i in range(len(lst)):\n",
        "    set_A = set(lst[i])\n",
        "    print(\"set_A: \",set_A)\n",
        "    for j in range(i+1, len(lst)):\n",
        "      set_B = set(lst[j])\n",
        "\n",
        "      new_set = set(lst[i])|set(lst[j])\n",
        "\n",
        "      if len(new_set) == 3:\n",
        "        common_ele = set_A & set_B\n",
        "        new_pair_tuple = tuple(sorted(list(set((set_A-common_ele)|(set_B-common_ele)))))\n",
        "\n",
        "        print(\"new_pair_tuple: \",new_pair_tuple)\n",
        "        \n",
        "        if new_pair_tuple in frequent_pairs_list:\n",
        "          new_triple = tuple(sorted(list(new_set)))\n",
        "\n",
        "          triples.add(new_triple)\n",
        "\n",
        "  return list(triples)"
      ]
    },
    {
      "cell_type": "code",
      "execution_count": null,
      "metadata": {
        "id": "RghTbBitVo0L"
      },
      "outputs": [],
      "source": [
        "frequent_triples_counts = frequent_pairs_basket.map(lambda x: combine_frequent_pairs(x))\\\n",
        "                                               .filter(lambda x: x != [] and x != None)\\\n",
        "                                               .flatMap(lambda x: x)\\\n",
        "                                               .map(lambda x: (x, 1))\\\n",
        "                                               .reduceByKey(lambda x, y: x + y)\\\n",
        "                                               .filter(lambda x: x[1] >= 100)                                   \n",
        "#frequent_triples_counts.take(5)      "
      ]
    },
    {
      "cell_type": "code",
      "execution_count": 20,
      "metadata": {
        "colab": {
          "base_uri": "https://localhost:8080/"
        },
        "id": "_GAaWfrN_uk8",
        "outputId": "4ab9000a-b44b-453e-87dd-7dad5c86982b"
      },
      "outputs": [
        {
          "data": {
            "text/plain": [
              "[(('DAI23334', 'ELE92920'), 'DAI62779', 1.0),\n",
              " (('DAI31081', 'GRO85051'), 'FRO40251', 1.0),\n",
              " (('DAI55911', 'GRO85051'), 'FRO40251', 1.0),\n",
              " (('DAI62779', 'DAI88079'), 'FRO40251', 1.0),\n",
              " (('DAI75645', 'GRO85051'), 'FRO40251', 1.0)]"
            ]
          },
          "execution_count": 20,
          "metadata": {},
          "output_type": "execute_result"
        }
      ],
      "source": [
        "answer_d = frequent_triples_counts.flatMap(lambda x: (((x[0][0],x[0][1]),x[0][2],x[1]), ((x[0][0],x[0][2]),x[0][1],x[1]), ((x[0][1],x[0][2]),x[0][0],x[1])))\\\n",
        "                                .map(lambda x : (x[0],x[1],float(x[2])/float(frequent_pairs_counts_dict[x[0]]))).sortBy(lambda x: (-x[2],x[0],x[1])) \n",
        "\n",
        "answer_d.take(5)  "
      ]
    }
  ],
  "metadata": {
    "colab": {
      "provenance": []
    },
    "kernelspec": {
      "display_name": "Python 3",
      "name": "python3"
    },
    "language_info": {
      "name": "python"
    }
  },
  "nbformat": 4,
  "nbformat_minor": 0
}
