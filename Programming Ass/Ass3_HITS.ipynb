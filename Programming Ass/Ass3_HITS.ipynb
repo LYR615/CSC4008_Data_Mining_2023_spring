{
  "cells": [
    {
      "cell_type": "markdown",
      "metadata": {
        "id": "wiQh7YOaGnLz"
      },
      "source": [
        "## **Configurations**"
      ]
    },
    {
      "cell_type": "code",
      "execution_count": 1,
      "metadata": {
        "colab": {
          "base_uri": "https://localhost:8080/",
          "height": 0
        },
        "id": "P8XF4tW5GZEI",
        "outputId": "39fbca19-a061-43a5-ef9f-e8db3d34697e"
      },
      "outputs": [
        {
          "name": "stdout",
          "output_type": "stream",
          "text": [
            "Looking in indexes: https://pypi.org/simple, https://us-python.pkg.dev/colab-wheels/public/simple/\n",
            "Collecting pyspark\n",
            "  Downloading pyspark-3.3.2.tar.gz (281.4 MB)\n",
            "\u001b[2K     \u001b[90m━━━━━━━━━━━━━━━━━━━━━━━━━━━━━━━━━━━━━━━\u001b[0m \u001b[32m281.4/281.4 MB\u001b[0m \u001b[31m3.6 MB/s\u001b[0m eta \u001b[36m0:00:00\u001b[0m\n",
            "\u001b[?25h  Preparing metadata (setup.py) ... \u001b[?25l\u001b[?25hdone\n",
            "Collecting py4j==0.10.9.5\n",
            "  Downloading py4j-0.10.9.5-py2.py3-none-any.whl (199 kB)\n",
            "\u001b[2K     \u001b[90m━━━━━━━━━━━━━━━━━━━━━━━━━━━━━━━━━━━━━━\u001b[0m \u001b[32m199.7/199.7 kB\u001b[0m \u001b[31m17.3 MB/s\u001b[0m eta \u001b[36m0:00:00\u001b[0m\n",
            "\u001b[?25hBuilding wheels for collected packages: pyspark\n",
            "  Building wheel for pyspark (setup.py) ... \u001b[?25l\u001b[?25hdone\n",
            "  Created wheel for pyspark: filename=pyspark-3.3.2-py2.py3-none-any.whl size=281824028 sha256=7a08f4de2200e85eeb52cdd6bd51170777e9b798544c39cfb86a5a60ef0feba4\n",
            "  Stored in directory: /root/.cache/pip/wheels/6c/e3/9b/0525ce8a69478916513509d43693511463c6468db0de237c86\n",
            "Successfully built pyspark\n",
            "Installing collected packages: py4j, pyspark\n",
            "  Attempting uninstall: py4j\n",
            "    Found existing installation: py4j 0.10.9.7\n",
            "    Uninstalling py4j-0.10.9.7:\n",
            "      Successfully uninstalled py4j-0.10.9.7\n",
            "Successfully installed py4j-0.10.9.5 pyspark-3.3.2\n",
            "The following additional packages will be installed:\n",
            "  libxtst6 openjdk-8-jre-headless\n",
            "Suggested packages:\n",
            "  openjdk-8-demo openjdk-8-source libnss-mdns fonts-dejavu-extra\n",
            "  fonts-ipafont-gothic fonts-ipafont-mincho fonts-wqy-microhei\n",
            "  fonts-wqy-zenhei fonts-indic\n",
            "The following NEW packages will be installed:\n",
            "  libxtst6 openjdk-8-jdk-headless openjdk-8-jre-headless\n",
            "0 upgraded, 3 newly installed, 0 to remove and 24 not upgraded.\n",
            "Need to get 36.5 MB of archives.\n",
            "After this operation, 144 MB of additional disk space will be used.\n",
            "Selecting previously unselected package libxtst6:amd64.\n",
            "(Reading database ... 122349 files and directories currently installed.)\n",
            "Preparing to unpack .../libxtst6_2%3a1.2.3-1_amd64.deb ...\n",
            "Unpacking libxtst6:amd64 (2:1.2.3-1) ...\n",
            "Selecting previously unselected package openjdk-8-jre-headless:amd64.\n",
            "Preparing to unpack .../openjdk-8-jre-headless_8u362-ga-0ubuntu1~20.04.1_amd64.deb ...\n",
            "Unpacking openjdk-8-jre-headless:amd64 (8u362-ga-0ubuntu1~20.04.1) ...\n",
            "Selecting previously unselected package openjdk-8-jdk-headless:amd64.\n",
            "Preparing to unpack .../openjdk-8-jdk-headless_8u362-ga-0ubuntu1~20.04.1_amd64.deb ...\n",
            "Unpacking openjdk-8-jdk-headless:amd64 (8u362-ga-0ubuntu1~20.04.1) ...\n",
            "Setting up libxtst6:amd64 (2:1.2.3-1) ...\n",
            "Setting up openjdk-8-jre-headless:amd64 (8u362-ga-0ubuntu1~20.04.1) ...\n",
            "update-alternatives: using /usr/lib/jvm/java-8-openjdk-amd64/jre/bin/orbd to provide /usr/bin/orbd (orbd) in auto mode\n",
            "update-alternatives: using /usr/lib/jvm/java-8-openjdk-amd64/jre/bin/servertool to provide /usr/bin/servertool (servertool) in auto mode\n",
            "update-alternatives: using /usr/lib/jvm/java-8-openjdk-amd64/jre/bin/tnameserv to provide /usr/bin/tnameserv (tnameserv) in auto mode\n",
            "Setting up openjdk-8-jdk-headless:amd64 (8u362-ga-0ubuntu1~20.04.1) ...\n",
            "update-alternatives: using /usr/lib/jvm/java-8-openjdk-amd64/bin/idlj to provide /usr/bin/idlj (idlj) in auto mode\n",
            "update-alternatives: using /usr/lib/jvm/java-8-openjdk-amd64/bin/wsimport to provide /usr/bin/wsimport (wsimport) in auto mode\n",
            "update-alternatives: using /usr/lib/jvm/java-8-openjdk-amd64/bin/jsadebugd to provide /usr/bin/jsadebugd (jsadebugd) in auto mode\n",
            "update-alternatives: using /usr/lib/jvm/java-8-openjdk-amd64/bin/native2ascii to provide /usr/bin/native2ascii (native2ascii) in auto mode\n",
            "update-alternatives: using /usr/lib/jvm/java-8-openjdk-amd64/bin/javah to provide /usr/bin/javah (javah) in auto mode\n",
            "update-alternatives: using /usr/lib/jvm/java-8-openjdk-amd64/bin/hsdb to provide /usr/bin/hsdb (hsdb) in auto mode\n",
            "update-alternatives: using /usr/lib/jvm/java-8-openjdk-amd64/bin/clhsdb to provide /usr/bin/clhsdb (clhsdb) in auto mode\n",
            "update-alternatives: using /usr/lib/jvm/java-8-openjdk-amd64/bin/xjc to provide /usr/bin/xjc (xjc) in auto mode\n",
            "update-alternatives: using /usr/lib/jvm/java-8-openjdk-amd64/bin/schemagen to provide /usr/bin/schemagen (schemagen) in auto mode\n",
            "update-alternatives: using /usr/lib/jvm/java-8-openjdk-amd64/bin/extcheck to provide /usr/bin/extcheck (extcheck) in auto mode\n",
            "update-alternatives: using /usr/lib/jvm/java-8-openjdk-amd64/bin/jhat to provide /usr/bin/jhat (jhat) in auto mode\n",
            "update-alternatives: using /usr/lib/jvm/java-8-openjdk-amd64/bin/wsgen to provide /usr/bin/wsgen (wsgen) in auto mode\n",
            "Processing triggers for libc-bin (2.31-0ubuntu9.9) ...\n"
          ]
        }
      ],
      "source": [
        "!pip install pyspark\n",
        "!pip install -U -q PyDrive\n",
        "!apt install openjdk-8-jdk-headless -qq"
      ]
    },
    {
      "cell_type": "code",
      "execution_count": 2,
      "metadata": {
        "id": "1xasYqMQGnza"
      },
      "outputs": [],
      "source": [
        "import os\n",
        "os.environ[\"JAVA_HOME\"] = \"/usr/lib/jvm/java-8-openjdk-amd64\""
      ]
    },
    {
      "cell_type": "code",
      "execution_count": 3,
      "metadata": {
        "id": "Sp6xm7Y-GvJG"
      },
      "outputs": [],
      "source": [
        "from pydrive.auth import GoogleAuth\n",
        "from pydrive.drive import GoogleDrive\n",
        "from google.colab import auth\n",
        "from oauth2client.client import GoogleCredentials\n",
        "\n",
        "# Authenticate and create the PyDrive client\n",
        "auth.authenticate_user()\n",
        "gauth = GoogleAuth()\n",
        "gauth.credentials = GoogleCredentials.get_application_default()\n",
        "drive = GoogleDrive(gauth)"
      ]
    },
    {
      "cell_type": "code",
      "execution_count": 5,
      "metadata": {
        "id": "IWLI6lZ0G8PK"
      },
      "outputs": [],
      "source": [
        "import pandas as pd\n",
        "import numpy as np\n",
        "import matplotlib.pyplot as plt\n",
        "%matplotlib inline\n",
        "\n",
        "import pyspark\n",
        "from pyspark.sql import *\n",
        "from pyspark.sql.functions import *\n",
        "from pyspark import SparkContext, SparkConf"
      ]
    },
    {
      "cell_type": "code",
      "execution_count": 6,
      "metadata": {
        "id": "8dkI_n0qHGV_"
      },
      "outputs": [],
      "source": [
        "# create the session\n",
        "conf = SparkConf().set(\"spark.ui.port\", \"4050\")\n",
        "\n",
        "# create the context\n",
        "sc = pyspark.SparkContext(conf=conf)\n",
        "spark = SparkSession.builder.getOrCreate()"
      ]
    },
    {
      "cell_type": "markdown",
      "metadata": {
        "id": "Wr4sojbkWLjE"
      },
      "source": [
        "## **Q2**   "
      ]
    },
    {
      "cell_type": "code",
      "execution_count": 10,
      "metadata": {
        "id": "uBBSr5U3ve9G"
      },
      "outputs": [],
      "source": [
        "# rdd = sc.textFile(\"graph-small.txt\")    \n",
        "rdd = sc.textFile(\"graph-full.txt\")    "
      ]
    },
    {
      "cell_type": "code",
      "execution_count": null,
      "metadata": {
        "id": "T1VY1LTZwJj8"
      },
      "outputs": [],
      "source": [
        "edges = rdd.map(lambda x: x.split())\\\n",
        "            .map(lambda x: (int(x[0]), int(x[1])))\\\n",
        "            .distinct()       \n",
        "\n",
        "# edges.take(5)      "
      ]
    },
    {
      "cell_type": "code",
      "execution_count": 12,
      "metadata": {
        "id": "czzCganxxdd8"
      },
      "outputs": [],
      "source": [
        "n = 1000 \n",
        "max_iteration = 40       \n",
        "h = [(i, 1) for i in range(1, n + 1)] # h: (h_page, h_score)             "
      ]
    },
    {
      "cell_type": "code",
      "execution_count": 13,
      "metadata": {
        "id": "EkwvC71Q-rCQ"
      },
      "outputs": [],
      "source": [
        "for i in range(max_iteration):  \n",
        "    h = sc.parallelize(h)         \n",
        "        \n",
        "    h_dict = h.collectAsMap()  \n",
        "    # (a_page, h_score) (a_page, sum ofh_score = updated_a_scor) \n",
        "    update_a = edges.map(lambda x: (x[1], h_dict[x[0]])).reduceByKey(lambda x, y: x + y)            \n",
        "    max_a = update_a.map(lambda x: x[1]).max()\n",
        "    a = update_a.map(lambda x: (x[0], x[1] / max_a)) # scaling  a: (a_page, a_score) \n",
        "\n",
        "    a_dict = a.collectAsMap()\n",
        "    update_h = edges.map(lambda x: (x[0], a_dict[x[1]])).reduceByKey(lambda x, y: x + y)       \n",
        "    max_h = update_h.map(lambda x: x[1]).max()\n",
        "    h = update_h.map(lambda x: (x[0], x[1] / max_h))  \n",
        "\n",
        "    h = h.collect()        "
      ]
    },
    {
      "cell_type": "code",
      "execution_count": 14,
      "metadata": {
        "colab": {
          "base_uri": "https://localhost:8080/",
          "height": 0
        },
        "id": "Rp4x6IVJH2H_",
        "outputId": "25252604-9bf7-4e64-d66b-689916fdb2c7"
      },
      "outputs": [
        {
          "name": "stdout",
          "output_type": "stream",
          "text": [
            "the 5 node ids with the highest hubbiness score:  \n",
            " [(840, 1.0), (155, 0.9499618624906541), (234, 0.8986645288972266), (389, 0.8634171101843793), (472, 0.8632841092495219)]\n",
            "the 5 node ids with the lowest hubbiness score:  \n",
            " [(23, 0.042066854890936534), (835, 0.05779059354433016), (141, 0.0645311764622518), (539, 0.06602659373418493), (889, 0.07678413939216454)]\n",
            "the 5 node ids with the highest authority score:  \n",
            " [(893, 1.0), (16, 0.9635572849634398), (799, 0.9510158161074017), (146, 0.9246703586198444), (473, 0.8998661973604051)]\n",
            "the 5 node ids with the lowest authority score:  \n",
            " [(19, 0.05608316377607618), (135, 0.06653910487622795), (462, 0.07544228624641901), (24, 0.08171239406816945), (910, 0.08571673456144878)]\n"
          ]
        }
      ],
      "source": [
        "h = sc.parallelize(h)    \n",
        "  \n",
        "sorted_h = h.sortBy(lambda x: x[1], ascending=False)\n",
        "top_five_h = sorted_h.take(5)\n",
        "bottom_five_h = sorted_h.takeOrdered(5, key=lambda x: x[1])\n",
        "   \n",
        "sorted_a = a.sortBy(lambda x: x[1], ascending=False)\n",
        "top_five_a = sorted_a.take(5)\n",
        "bottom_five_a = sorted_a.takeOrdered(5, key=lambda x: x[1])\n",
        "\n",
        "print(\"the 5 node ids with the highest hubbiness score: \", \"\\n\", top_five_h)  \n",
        "print(\"the 5 node ids with the lowest hubbiness score: \", \"\\n\", bottom_five_h)\n",
        "print(\"the 5 node ids with the highest authority score: \", \"\\n\", top_five_a)    \n",
        "print(\"the 5 node ids with the lowest authority score: \", \"\\n\", bottom_five_a)"
      ]
    },
    {
      "cell_type": "code",
      "execution_count": 14,
      "metadata": {
        "id": "GvZVUT7tLJ0X"
      },
      "outputs": [],
      "source": []
    }
  ],
  "metadata": {
    "colab": {
      "provenance": []
    },
    "kernelspec": {
      "display_name": "Python 3",
      "name": "python3"
    },
    "language_info": {
      "name": "python"
    }
  },
  "nbformat": 4,
  "nbformat_minor": 0
}
