{
 "cells": [
  {
   "cell_type": "markdown",
   "metadata": {
    "id": "BcaeIdCiBdlk"
   },
   "source": [
    "## **Configurations**"
   ]
  },
  {
   "cell_type": "code",
   "execution_count": 1,
   "metadata": {
    "colab": {
     "base_uri": "https://localhost:8080/"
    },
    "id": "hkJHdQ67hitj",
    "outputId": "5d449158-8571-430a-d87d-8ffe20d97ba4"
   },
   "outputs": [
    {
     "name": "stdout",
     "output_type": "stream",
     "text": [
      "Looking in indexes: https://pypi.org/simple, https://us-python.pkg.dev/colab-wheels/public/simple/\n",
      "Collecting pyspark\n",
      "  Downloading pyspark-3.3.2.tar.gz (281.4 MB)\n",
      "\u001b[2K     \u001b[90m━━━━━━━━━━━━━━━━━━━━━━━━━━━━━━━━━━━━━━━\u001b[0m \u001b[32m281.4/281.4 MB\u001b[0m \u001b[31m4.4 MB/s\u001b[0m eta \u001b[36m0:00:00\u001b[0m\n",
      "\u001b[?25h  Preparing metadata (setup.py) ... \u001b[?25l\u001b[?25hdone\n",
      "Collecting py4j==0.10.9.5\n",
      "  Downloading py4j-0.10.9.5-py2.py3-none-any.whl (199 kB)\n",
      "\u001b[2K     \u001b[90m━━━━━━━━━━━━━━━━━━━━━━━━━━━━━━━━━━━━━━\u001b[0m \u001b[32m199.7/199.7 KB\u001b[0m \u001b[31m15.5 MB/s\u001b[0m eta \u001b[36m0:00:00\u001b[0m\n",
      "\u001b[?25hBuilding wheels for collected packages: pyspark\n",
      "  Building wheel for pyspark (setup.py) ... \u001b[?25l\u001b[?25hdone\n",
      "  Created wheel for pyspark: filename=pyspark-3.3.2-py2.py3-none-any.whl size=281824025 sha256=2e625cbcd9c83b156e7a580a05aa6e263348c11a499673da6878ef2c0bfa5a25\n",
      "  Stored in directory: /root/.cache/pip/wheels/b1/59/a0/a1a0624b5e865fd389919c1a10f53aec9b12195d6747710baf\n",
      "Successfully built pyspark\n",
      "Installing collected packages: py4j, pyspark\n",
      "Successfully installed py4j-0.10.9.5 pyspark-3.3.2\n",
      "The following additional packages will be installed:\n",
      "  openjdk-8-jre-headless\n",
      "Suggested packages:\n",
      "  openjdk-8-demo openjdk-8-source libnss-mdns fonts-dejavu-extra\n",
      "  fonts-ipafont-gothic fonts-ipafont-mincho fonts-wqy-microhei\n",
      "  fonts-wqy-zenhei fonts-indic\n",
      "The following NEW packages will be installed:\n",
      "  openjdk-8-jdk-headless openjdk-8-jre-headless\n",
      "0 upgraded, 2 newly installed, 0 to remove and 19 not upgraded.\n",
      "Need to get 36.5 MB of archives.\n",
      "After this operation, 143 MB of additional disk space will be used.\n",
      "Selecting previously unselected package openjdk-8-jre-headless:amd64.\n",
      "(Reading database ... 128208 files and directories currently installed.)\n",
      "Preparing to unpack .../openjdk-8-jre-headless_8u352-ga-1~20.04_amd64.deb ...\n",
      "Unpacking openjdk-8-jre-headless:amd64 (8u352-ga-1~20.04) ...\n",
      "Selecting previously unselected package openjdk-8-jdk-headless:amd64.\n",
      "Preparing to unpack .../openjdk-8-jdk-headless_8u352-ga-1~20.04_amd64.deb ...\n",
      "Unpacking openjdk-8-jdk-headless:amd64 (8u352-ga-1~20.04) ...\n",
      "Setting up openjdk-8-jre-headless:amd64 (8u352-ga-1~20.04) ...\n",
      "update-alternatives: using /usr/lib/jvm/java-8-openjdk-amd64/jre/bin/orbd to provide /usr/bin/orbd (orbd) in auto mode\n",
      "update-alternatives: using /usr/lib/jvm/java-8-openjdk-amd64/jre/bin/servertool to provide /usr/bin/servertool (servertool) in auto mode\n",
      "update-alternatives: using /usr/lib/jvm/java-8-openjdk-amd64/jre/bin/tnameserv to provide /usr/bin/tnameserv (tnameserv) in auto mode\n",
      "Setting up openjdk-8-jdk-headless:amd64 (8u352-ga-1~20.04) ...\n",
      "update-alternatives: using /usr/lib/jvm/java-8-openjdk-amd64/bin/idlj to provide /usr/bin/idlj (idlj) in auto mode\n",
      "update-alternatives: using /usr/lib/jvm/java-8-openjdk-amd64/bin/wsimport to provide /usr/bin/wsimport (wsimport) in auto mode\n",
      "update-alternatives: using /usr/lib/jvm/java-8-openjdk-amd64/bin/jsadebugd to provide /usr/bin/jsadebugd (jsadebugd) in auto mode\n",
      "update-alternatives: using /usr/lib/jvm/java-8-openjdk-amd64/bin/native2ascii to provide /usr/bin/native2ascii (native2ascii) in auto mode\n",
      "update-alternatives: using /usr/lib/jvm/java-8-openjdk-amd64/bin/javah to provide /usr/bin/javah (javah) in auto mode\n",
      "update-alternatives: using /usr/lib/jvm/java-8-openjdk-amd64/bin/clhsdb to provide /usr/bin/clhsdb (clhsdb) in auto mode\n",
      "update-alternatives: using /usr/lib/jvm/java-8-openjdk-amd64/bin/xjc to provide /usr/bin/xjc (xjc) in auto mode\n",
      "update-alternatives: using /usr/lib/jvm/java-8-openjdk-amd64/bin/hsdb to provide /usr/bin/hsdb (hsdb) in auto mode\n",
      "update-alternatives: using /usr/lib/jvm/java-8-openjdk-amd64/bin/schemagen to provide /usr/bin/schemagen (schemagen) in auto mode\n",
      "update-alternatives: using /usr/lib/jvm/java-8-openjdk-amd64/bin/extcheck to provide /usr/bin/extcheck (extcheck) in auto mode\n",
      "update-alternatives: using /usr/lib/jvm/java-8-openjdk-amd64/bin/jhat to provide /usr/bin/jhat (jhat) in auto mode\n",
      "update-alternatives: using /usr/lib/jvm/java-8-openjdk-amd64/bin/wsgen to provide /usr/bin/wsgen (wsgen) in auto mode\n"
     ]
    }
   ],
   "source": [
    "!pip install pyspark\n",
    "!pip install -U -q PyDrive\n",
    "!apt install openjdk-8-jdk-headless -qq"
   ]
  },
  {
   "cell_type": "code",
   "execution_count": 2,
   "metadata": {
    "id": "ujpYXRcIhvA_"
   },
   "outputs": [],
   "source": [
    "import os\n",
    "os.environ[\"JAVA_HOME\"] = \"/usr/lib/jvm/java-8-openjdk-amd64\""
   ]
  },
  {
   "cell_type": "code",
   "execution_count": 3,
   "metadata": {
    "id": "MZ19ShAIh6H6"
   },
   "outputs": [],
   "source": [
    "from pydrive.auth import GoogleAuth\n",
    "from pydrive.drive import GoogleDrive\n",
    "from google.colab import auth\n",
    "from oauth2client.client import GoogleCredentials\n",
    "\n",
    "# Authenticate and create the PyDrive client\n",
    "auth.authenticate_user()\n",
    "gauth = GoogleAuth()\n",
    "gauth.credentials = GoogleCredentials.get_application_default()\n",
    "drive = GoogleDrive(gauth)"
   ]
  },
  {
   "cell_type": "code",
   "execution_count": 5,
   "metadata": {
    "id": "dtpX8zJeiPB3"
   },
   "outputs": [],
   "source": [
    "import pandas as pd\n",
    "import numpy as np\n",
    "import matplotlib.pyplot as plt\n",
    "%matplotlib inline\n",
    "\n",
    "import pyspark\n",
    "from pyspark.sql import *\n",
    "from pyspark.sql.functions import *\n",
    "from pyspark import SparkContext, SparkConf"
   ]
  },
  {
   "cell_type": "markdown",
   "metadata": {
    "id": "fhO0EWjkBu32"
   },
   "source": [
    "## **People You Might Know**"
   ]
  },
  {
   "cell_type": "code",
   "execution_count": 6,
   "metadata": {
    "id": "SSvrZO_WgIYv"
   },
   "outputs": [],
   "source": [
    "# create the session\n",
    "conf = SparkConf().set(\"spark.ui.port\", \"4050\")\n",
    "\n",
    "# create the context\n",
    "sc = pyspark.SparkContext(conf=conf)\n",
    "spark = SparkSession.builder.getOrCreate()"
   ]
  },
  {
   "cell_type": "code",
   "execution_count": 7,
   "metadata": {
    "id": "EWUKx0priZ6d"
   },
   "outputs": [],
   "source": [
    "rdd = spark.sparkContext.textFile(\"ego-facebook.txt\")\n",
    "rdd1 = rdd.map(lambda x:(int(x.split()[0]), int(x.split()[1])))\n",
    "rdd2 = rdd1.map(lambda x: (x[1], x[0]))\n",
    "rdd3 = rdd1.union(rdd2)"
   ]
  },
  {
   "cell_type": "code",
   "execution_count": 8,
   "metadata": {
    "id": "RWuyGb0rAofj"
   },
   "outputs": [],
   "source": [
    "rdd4 = rdd3.groupByKey().mapValues(list).sortByKey(True, 1) "
   ]
  },
  {
   "cell_type": "code",
   "execution_count": 9,
   "metadata": {
    "id": "lYb8MTo6ORT-"
   },
   "outputs": [],
   "source": [
    "# sort the list of friends so that the id of friends are listed in ascending order\n",
    "def sort_friends(elmt):\n",
    "  person = elmt[0]\n",
    "  friends = elmt[1]\n",
    "  friends_ = sorted(friends)\n",
    "\n",
    "  return (person, friends_)"
   ]
  },
  {
   "cell_type": "code",
   "execution_count": 10,
   "metadata": {
    "id": "vzt6FslGOMTl"
   },
   "outputs": [],
   "source": [
    "#each element in rdd4: (person, [friends])\n",
    "#(the id of friends are listed in ascending order)\n",
    "rdd4 = rdd4.map(sort_friends) "
   ]
  },
  {
   "cell_type": "code",
   "execution_count": 11,
   "metadata": {
    "id": "JdB2VXka5OG5"
   },
   "outputs": [],
   "source": [
    "# to get a list (all_people) of ids of all people mentioned in this problem\n",
    "rdd_keys = rdd1.keys()\n",
    "rdd_values = rdd1.values()\n",
    "rdd_all = rdd_keys.union(rdd_values)\n",
    "all_people = rdd_all.distinct().collect()\n",
    "all_people.sort()"
   ]
  },
  {
   "cell_type": "code",
   "execution_count": 12,
   "metadata": {
    "id": "uZ3SKuF6Oejo"
   },
   "outputs": [],
   "source": [
    "# to get the ids of all strangers\n",
    "def not_friends(elmt):\n",
    "  person = elmt[0] \n",
    "  friends = elmt[1] #friends of this person: list\n",
    "\n",
    "  strangers = all_people.copy()\n",
    "  strangers.remove(person)\n",
    "\n",
    "  for i in friends:\n",
    "    strangers.remove(i)\n",
    "\n",
    "  return((person,friends,strangers))"
   ]
  },
  {
   "cell_type": "code",
   "execution_count": 13,
   "metadata": {
    "id": "xZB9F36VF4Fq"
   },
   "outputs": [],
   "source": [
    "# each element of rdd5: (person, [friends], [strangers])\n",
    "rdd5 = rdd4.map(not_friends) "
   ]
  },
  {
   "cell_type": "code",
   "execution_count": null,
   "metadata": {
    "id": "0Cbe-xXYSWaq"
   },
   "outputs": [],
   "source": [
    "# rdd5.collect()"
   ]
  },
  {
   "cell_type": "code",
   "execution_count": 15,
   "metadata": {
    "id": "rprkQRxL_SEu"
   },
   "outputs": [],
   "source": [
    "rdd4_list = rdd4.collect()"
   ]
  },
  {
   "cell_type": "code",
   "execution_count": 16,
   "metadata": {
    "id": "_Kb4Fe8gZnEr"
   },
   "outputs": [],
   "source": [
    "# to get the numbers of mutual friends between the user and the stranger\n",
    "def mutual_friends(elmt):\n",
    "  person = elmt[0]\n",
    "  friends = elmt[1] #friends of this person: list \n",
    "  strangers = elmt[2]\n",
    "\n",
    "  strangers_left = strangers.copy()\n",
    "\n",
    "  mutual_numbers = []\n",
    "\n",
    "  for i in strangers: # i: each person of strangers\n",
    "    for j in rdd4_list:\n",
    "      if j[0] == i:\n",
    "        friends_of_stranger = j[1]\n",
    "    mutual = set(friends)&set(friends_of_stranger)\n",
    "    if len(mutual) == 0:\n",
    "      strangers_left.remove(i)\n",
    "    else:\n",
    "      mutual_numbers.append(len(mutual))\n",
    "\n",
    "  mutual_strangers = list(zip(mutual_numbers, strangers_left))\n",
    "\n",
    "  return(person, mutual_strangers)  "
   ]
  },
  {
   "cell_type": "code",
   "execution_count": 17,
   "metadata": {
    "id": "WfiJr2-uZaGz"
   },
   "outputs": [],
   "source": [
    "# each element of rdd6: \n",
    "#(person, [(the number of mutual friends, stranger i)...])\n",
    "rdd6 = rdd5.map(mutual_friends)"
   ]
  },
  {
   "cell_type": "code",
   "execution_count": 20,
   "metadata": {
    "id": "XBPRcQ3DKe0E"
   },
   "outputs": [],
   "source": [
    "# to get the ids of top 10 recommendation\n",
    "def recommendation(elmt):\n",
    "  strangers_mutual = elmt[1]\n",
    "  strangers_mutual_sorted = sorted(strangers_mutual, key=lambda x:x[0],reverse = True)\n",
    "  strangers_mutual_sorted_10 = strangers_mutual_sorted[:10] #10\n",
    "\n",
    "  recommendation_list = []\n",
    "  for i in strangers_mutual_sorted_10:\n",
    "    recommendation_list.append(i[1])\n",
    "\n",
    "  recommendation_str = ','.join(str(item) for item in recommendation_list)\n",
    "\n",
    "  s = str(elmt[0]) + \"\\t\"\n",
    "  s += recommendation_str\n",
    "  \n",
    "  return s"
   ]
  },
  {
   "cell_type": "code",
   "execution_count": 21,
   "metadata": {
    "id": "O848Lk2hBFr2"
   },
   "outputs": [],
   "source": [
    "rdd7 = rdd6.map(recommendation)"
   ]
  },
  {
   "cell_type": "code",
   "execution_count": null,
   "metadata": {
    "id": "ALM7bDc-MS4U"
   },
   "outputs": [],
   "source": [
    "# rdd7.collect()"
   ]
  },
  {
   "cell_type": "code",
   "execution_count": 22,
   "metadata": {
    "id": "Jzhd0qjzm5bb"
   },
   "outputs": [],
   "source": [
    "rdd7.saveAsTextFile(\"output\")"
   ]
  }
 ],
 "metadata": {
  "colab": {
   "provenance": []
  },
  "kernelspec": {
   "display_name": "Python 3 (ipykernel)",
   "language": "python",
   "name": "python3"
  },
  "language_info": {
   "codemirror_mode": {
    "name": "ipython",
    "version": 3
   },
   "file_extension": ".py",
   "mimetype": "text/x-python",
   "name": "python",
   "nbconvert_exporter": "python",
   "pygments_lexer": "ipython3",
   "version": "3.9.7"
  }
 },
 "nbformat": 4,
 "nbformat_minor": 1
}
