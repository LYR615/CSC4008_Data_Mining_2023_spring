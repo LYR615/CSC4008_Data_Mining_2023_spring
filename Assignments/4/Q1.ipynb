{
  "nbformat": 4,
  "nbformat_minor": 0,
  "metadata": {
    "colab": {
      "provenance": []
    },
    "kernelspec": {
      "name": "python3",
      "display_name": "Python 3"
    },
    "language_info": {
      "name": "python"
    }
  },
  "cells": [
    {
      "cell_type": "markdown",
      "source": [
        "## **Configurations**"
      ],
      "metadata": {
        "id": "wiQh7YOaGnLz"
      }
    },
    {
      "cell_type": "code",
      "execution_count": 2,
      "metadata": {
        "colab": {
          "base_uri": "https://localhost:8080/"
        },
        "id": "P8XF4tW5GZEI",
        "outputId": "5eb4c6a6-d93f-474b-c5fc-3b4c10f73dd0"
      },
      "outputs": [
        {
          "output_type": "stream",
          "name": "stdout",
          "text": [
            "Looking in indexes: https://pypi.org/simple, https://us-python.pkg.dev/colab-wheels/public/simple/\n",
            "Collecting pyspark\n",
            "  Downloading pyspark-3.4.0.tar.gz (310.8 MB)\n",
            "\u001b[2K     \u001b[90m━━━━━━━━━━━━━━━━━━━━━━━━━━━━━━━━━━━━━━━\u001b[0m \u001b[32m310.8/310.8 MB\u001b[0m \u001b[31m3.3 MB/s\u001b[0m eta \u001b[36m0:00:00\u001b[0m\n",
            "\u001b[?25h  Preparing metadata (setup.py) ... \u001b[?25l\u001b[?25hdone\n",
            "Requirement already satisfied: py4j==0.10.9.7 in /usr/local/lib/python3.10/dist-packages (from pyspark) (0.10.9.7)\n",
            "Building wheels for collected packages: pyspark\n",
            "  Building wheel for pyspark (setup.py) ... \u001b[?25l\u001b[?25hdone\n",
            "  Created wheel for pyspark: filename=pyspark-3.4.0-py2.py3-none-any.whl size=311317145 sha256=3baf58003f450e2d5729957fc17bebf07c7e5122f054972a4b1fd1c55d911ce3\n",
            "  Stored in directory: /root/.cache/pip/wheels/7b/1b/4b/3363a1d04368e7ff0d408e57ff57966fcdf00583774e761327\n",
            "Successfully built pyspark\n",
            "Installing collected packages: pyspark\n",
            "Successfully installed pyspark-3.4.0\n",
            "The following additional packages will be installed:\n",
            "  libxtst6 openjdk-8-jre-headless\n",
            "Suggested packages:\n",
            "  openjdk-8-demo openjdk-8-source libnss-mdns fonts-dejavu-extra\n",
            "  fonts-ipafont-gothic fonts-ipafont-mincho fonts-wqy-microhei\n",
            "  fonts-wqy-zenhei fonts-indic\n",
            "The following NEW packages will be installed:\n",
            "  libxtst6 openjdk-8-jdk-headless openjdk-8-jre-headless\n",
            "0 upgraded, 3 newly installed, 0 to remove and 24 not upgraded.\n",
            "Need to get 36.5 MB of archives.\n",
            "After this operation, 144 MB of additional disk space will be used.\n",
            "Selecting previously unselected package libxtst6:amd64.\n",
            "(Reading database ... 122518 files and directories currently installed.)\n",
            "Preparing to unpack .../libxtst6_2%3a1.2.3-1_amd64.deb ...\n",
            "Unpacking libxtst6:amd64 (2:1.2.3-1) ...\n",
            "Selecting previously unselected package openjdk-8-jre-headless:amd64.\n",
            "Preparing to unpack .../openjdk-8-jre-headless_8u362-ga-0ubuntu1~20.04.1_amd64.deb ...\n",
            "Unpacking openjdk-8-jre-headless:amd64 (8u362-ga-0ubuntu1~20.04.1) ...\n",
            "Selecting previously unselected package openjdk-8-jdk-headless:amd64.\n",
            "Preparing to unpack .../openjdk-8-jdk-headless_8u362-ga-0ubuntu1~20.04.1_amd64.deb ...\n",
            "Unpacking openjdk-8-jdk-headless:amd64 (8u362-ga-0ubuntu1~20.04.1) ...\n",
            "Setting up libxtst6:amd64 (2:1.2.3-1) ...\n",
            "Setting up openjdk-8-jre-headless:amd64 (8u362-ga-0ubuntu1~20.04.1) ...\n",
            "update-alternatives: using /usr/lib/jvm/java-8-openjdk-amd64/jre/bin/orbd to provide /usr/bin/orbd (orbd) in auto mode\n",
            "update-alternatives: using /usr/lib/jvm/java-8-openjdk-amd64/jre/bin/servertool to provide /usr/bin/servertool (servertool) in auto mode\n",
            "update-alternatives: using /usr/lib/jvm/java-8-openjdk-amd64/jre/bin/tnameserv to provide /usr/bin/tnameserv (tnameserv) in auto mode\n",
            "Setting up openjdk-8-jdk-headless:amd64 (8u362-ga-0ubuntu1~20.04.1) ...\n",
            "update-alternatives: using /usr/lib/jvm/java-8-openjdk-amd64/bin/idlj to provide /usr/bin/idlj (idlj) in auto mode\n",
            "update-alternatives: using /usr/lib/jvm/java-8-openjdk-amd64/bin/wsimport to provide /usr/bin/wsimport (wsimport) in auto mode\n",
            "update-alternatives: using /usr/lib/jvm/java-8-openjdk-amd64/bin/jsadebugd to provide /usr/bin/jsadebugd (jsadebugd) in auto mode\n",
            "update-alternatives: using /usr/lib/jvm/java-8-openjdk-amd64/bin/native2ascii to provide /usr/bin/native2ascii (native2ascii) in auto mode\n",
            "update-alternatives: using /usr/lib/jvm/java-8-openjdk-amd64/bin/javah to provide /usr/bin/javah (javah) in auto mode\n",
            "update-alternatives: using /usr/lib/jvm/java-8-openjdk-amd64/bin/hsdb to provide /usr/bin/hsdb (hsdb) in auto mode\n",
            "update-alternatives: using /usr/lib/jvm/java-8-openjdk-amd64/bin/clhsdb to provide /usr/bin/clhsdb (clhsdb) in auto mode\n",
            "update-alternatives: using /usr/lib/jvm/java-8-openjdk-amd64/bin/xjc to provide /usr/bin/xjc (xjc) in auto mode\n",
            "update-alternatives: using /usr/lib/jvm/java-8-openjdk-amd64/bin/schemagen to provide /usr/bin/schemagen (schemagen) in auto mode\n",
            "update-alternatives: using /usr/lib/jvm/java-8-openjdk-amd64/bin/extcheck to provide /usr/bin/extcheck (extcheck) in auto mode\n",
            "update-alternatives: using /usr/lib/jvm/java-8-openjdk-amd64/bin/jhat to provide /usr/bin/jhat (jhat) in auto mode\n",
            "update-alternatives: using /usr/lib/jvm/java-8-openjdk-amd64/bin/wsgen to provide /usr/bin/wsgen (wsgen) in auto mode\n",
            "Processing triggers for libc-bin (2.31-0ubuntu9.9) ...\n"
          ]
        }
      ],
      "source": [
        "!pip install pyspark\n",
        "!pip install -U -q PyDrive\n",
        "!apt install openjdk-8-jdk-headless -qq"
      ]
    },
    {
      "cell_type": "code",
      "source": [
        "import os\n",
        "os.environ[\"JAVA_HOME\"] = \"/usr/lib/jvm/java-8-openjdk-amd64\""
      ],
      "metadata": {
        "id": "1xasYqMQGnza"
      },
      "execution_count": 3,
      "outputs": []
    },
    {
      "cell_type": "code",
      "source": [
        "from pydrive.auth import GoogleAuth\n",
        "from pydrive.drive import GoogleDrive\n",
        "from google.colab import auth\n",
        "from oauth2client.client import GoogleCredentials\n",
        "\n",
        "# Authenticate and create the PyDrive client\n",
        "auth.authenticate_user()\n",
        "gauth = GoogleAuth()\n",
        "gauth.credentials = GoogleCredentials.get_application_default()\n",
        "drive = GoogleDrive(gauth)"
      ],
      "metadata": {
        "id": "Sp6xm7Y-GvJG"
      },
      "execution_count": 4,
      "outputs": []
    },
    {
      "cell_type": "code",
      "source": [
        "id='1E-voIV2ctU4Brw022Na8RHVVRGOoNkO1'\n",
        "downloaded = drive.CreateFile({'id': id}) \n",
        "downloaded.GetContentFile('data.txt')\n",
        "\n",
        "id='1yXNlZWMqUcAwDScBrkFChOHJwR1FZXmI'\n",
        "downloaded = drive.CreateFile({'id': id}) \n",
        "downloaded.GetContentFile('c1.txt')  \n",
        "\n",
        "id='1vfovle9DgaeK0LnbQTH0j7kRaJjsvLtb'\n",
        "downloaded = drive.CreateFile({'id': id}) \n",
        "downloaded.GetContentFile('c2.txt') "
      ],
      "metadata": {
        "id": "Cp_U83hnG4CU"
      },
      "execution_count": 5,
      "outputs": []
    },
    {
      "cell_type": "code",
      "source": [
        "import pyspark\n",
        "from pyspark.sql import *\n",
        "from pyspark.sql.functions import *\n",
        "from pyspark import SparkContext, SparkConf\n",
        "\n",
        "from pyspark.ml.linalg import Vectors\n",
        "import numpy as np\n",
        "  \n",
        "import matplotlib.pyplot as plt\n",
        "%matplotlib inline"
      ],
      "metadata": {
        "id": "IWLI6lZ0G8PK"
      },
      "execution_count": 6,
      "outputs": []
    },
    {
      "cell_type": "code",
      "source": [
        "# create the session\n",
        "conf = SparkConf().set(\"spark.ui.port\", \"4050\")\n",
        "\n",
        "# create the context\n",
        "sc = pyspark.SparkContext(conf=conf)\n",
        "spark = SparkSession.builder.getOrCreate()"
      ],
      "metadata": {
        "id": "8dkI_n0qHGV_"
      },
      "execution_count": 7,
      "outputs": []
    },
    {
      "cell_type": "markdown",
      "source": [
        "## **Q1**"
      ],
      "metadata": {
        "id": "Wr4sojbkWLjE"
      }
    },
    {
      "cell_type": "code",
      "source": [
        "def parse_point(line):\n",
        "    return Vectors.dense([float(x) for x in line.split()])\n",
        "\n",
        "data_rdd = sc.textFile(\"data.txt\").map(parse_point)  "
      ],
      "metadata": {
        "id": "FyLbwVd_xcgj"
      },
      "execution_count": 34,
      "outputs": []
    },
    {
      "cell_type": "code",
      "source": [
        "def parse_centroid(line):    \n",
        "    return Vectors.dense([float(x) for x in line.split()])  \n",
        "      \n",
        "with open(\"c1.txt\", \"r\") as file:    \n",
        "    initial_centroids_c1 = [parse_centroid(line.strip()) for line in file] "
      ],
      "metadata": {
        "id": "g7ob8ibx5Uy5"
      },
      "execution_count": 35,
      "outputs": []
    },
    {
      "cell_type": "code",
      "source": [
        "def parse_centroid(line):        \n",
        "    return Vectors.dense([float(x) for x in line.split()])\n",
        "      \n",
        "with open(\"c2.txt\", \"r\") as file:   \n",
        "    initial_centroids_c2 = [parse_centroid(line.strip()) for line in file] "
      ],
      "metadata": {
        "id": "p92WyPjeDcIJ"
      },
      "execution_count": 36,
      "outputs": []
    },
    {
      "cell_type": "code",
      "source": [
        "def euclidean_distance(a, b):  \n",
        "    return np.sqrt(np.sum((np.array(a) - np.array(b)) ** 2))"
      ],
      "metadata": {
        "id": "dcAC8pwNIkAL"
      },
      "execution_count": 37,
      "outputs": []
    },
    {
      "cell_type": "code",
      "source": [
        "def manhattan_distance(a, b):\n",
        "    return np.sum(np.abs(np.array(a) - np.array(b)))  "
      ],
      "metadata": {
        "id": "bgmvaGXXqm7l"
      },
      "execution_count": 38,
      "outputs": []
    },
    {
      "cell_type": "code",
      "source": [
        "def kmeans(centroids, distance_metric, MAX_ITER):  \n",
        "  costs = []   \n",
        "\n",
        "  for i in range(1, MAX_ITER + 1):    \n",
        "    \n",
        "    if distance_metric == \"Euclidean\":\n",
        "      # every element in clusters: (centroid, ((point, 1), cost_for_every_data_point))\n",
        "      clusters_and_costs = data_rdd.map(lambda point: (np.argmin([euclidean_distance(point, c) for c in centroids]),\n",
        "                                                     ((point, 1), np.min([euclidean_distance(point, c) ** 2 for c in centroids]))))\n",
        "    if distance_metric == \"Manhattan\":\n",
        "      clusters_and_costs = data_rdd.map(lambda point: (np.argmin([manhattan_distance(point, c) for c in centroids]),\n",
        "                                                     ((point, 1), np.min([manhattan_distance(point, c) for c in centroids]))))\n",
        "  \n",
        "    # calculate the cost \n",
        "    total_cost = clusters_and_costs.map(lambda x: x[1][1]).sum()  \n",
        "    costs.append(total_cost)\n",
        "\n",
        "    # calculate new centroid for every cluster\n",
        "    new_centroids = clusters_and_costs.map(lambda x: (x[0], x[1][0])) \\\n",
        "                                     .reduceByKey(lambda a, b: (a[0] + b[0], a[1] + b[1])) \\\n",
        "                                     .map(lambda x: x[1][0] / x[1][1]) \\\n",
        "                                     .collect()\n",
        "\n",
        "    centroids = new_centroids\n",
        "\n",
        "  return costs"
      ],
      "metadata": {
        "id": "G0i78OHspprh"
      },
      "execution_count": 39,
      "outputs": []
    },
    {
      "cell_type": "markdown",
      "source": [
        "## (a) 1"
      ],
      "metadata": {
        "id": "yFEVI75bmGbE"
      }
    },
    {
      "cell_type": "code",
      "source": [
        "MAX_ITER = 20       \n",
        "k = 10  "
      ],
      "metadata": {
        "id": "yZ1JQVRJmySP"
      },
      "execution_count": 40,
      "outputs": []
    },
    {
      "cell_type": "code",
      "source": [
        "costs_Euclidean_c1 = kmeans(initial_centroids_c1, \"Euclidean\", MAX_ITER)\n",
        "costs_Euclidean_c2 = kmeans(initial_centroids_c2, \"Euclidean\", MAX_ITER)"
      ],
      "metadata": {
        "id": "SNpt-incCx_m"
      },
      "execution_count": 41,
      "outputs": []
    },
    {
      "cell_type": "code",
      "source": [
        "plt.plot(range(1, MAX_ITER + 1), costs_Euclidean_c1, label=\"c1\", marker='o',)\n",
        "plt.plot(range(1, MAX_ITER + 1), costs_Euclidean_c2, label=\"c2\", marker='o')\n",
        "plt.xlabel(\"Number of iterations\")\n",
        "plt.ylabel(\"Cost\")         \n",
        "plt.legend()       \n",
        "plt.title(\"Euclidean Distance\")\n",
        "plt.savefig(\"a.png\", dpi=300, bbox_inches=\"tight\")\n",
        "plt.show()  "
      ],
      "metadata": {
        "colab": {
          "base_uri": "https://localhost:8080/",
          "height": 472
        },
        "id": "aczLwrdTj6JW",
        "outputId": "0c8f717b-198d-4f47-fe5e-d1fbd687cf23"
      },
      "execution_count": 50,
      "outputs": [
        {
          "output_type": "display_data",
          "data": {
            "text/plain": [
              "<Figure size 640x480 with 1 Axes>"
            ],
            "image/png": "[encoded data removed]"
          },
          "metadata": {}
        }
      ]
    },
    {
      "cell_type": "markdown",
      "source": [
        "## (a) 2"
      ],
      "metadata": {
        "id": "FtWo42NCnvR9"
      }
    },
    {
      "cell_type": "code",
      "source": [
        "def percentage_change(cost_list):\n",
        "  return (cost_list[0] - cost_list[10])/ cost_list[0]  "
      ],
      "metadata": {
        "id": "CDd55pVtny54"
      },
      "execution_count": 43,
      "outputs": []
    },
    {
      "cell_type": "code",
      "source": [
        "print(\"The percentage change using c1.txt and Euclidean Distance is: \", percentage_change(costs_Euclidean_c1))\n",
        "print(\"The percentage change using c2.txt and Euclidean Distance is: \", percentage_change(costs_Euclidean_c2))   "
      ],
      "metadata": {
        "colab": {
          "base_uri": "https://localhost:8080/"
        },
        "id": "5JAkz3tXoU7I",
        "outputId": "bb5af797-4ef4-4695-8797-aa5f57c3ec4d"
      },
      "execution_count": 44,
      "outputs": [
        {
          "output_type": "stream",
          "name": "stdout",
          "text": [
            "The percentage change using c1.txt and Euclidean Distance is:  0.2648391714456055\n",
            "The percentage change using c2.txt and Euclidean Distance is:  0.7669795594605946\n"
          ]
        }
      ]
    },
    {
      "cell_type": "markdown",
      "source": [
        "## (b) 1"
      ],
      "metadata": {
        "id": "xxPbCXyRnzhr"
      }
    },
    {
      "cell_type": "code",
      "source": [
        "costs_Manhattan_c1 = kmeans(initial_centroids_c1, \"Manhattan\", MAX_ITER)\n",
        "costs_Manhattan_c2 = kmeans(initial_centroids_c2, \"Manhattan\", MAX_ITER)"
      ],
      "metadata": {
        "id": "Ty4glB5Yn1ax"
      },
      "execution_count": 45,
      "outputs": []
    },
    {
      "cell_type": "code",
      "source": [
        "plt.plot(range(1, MAX_ITER + 1), costs_Manhattan_c1, label=\"c1\", marker='o',)\n",
        "plt.plot(range(1, MAX_ITER + 1), costs_Manhattan_c2, label=\"c2\", marker='o')\n",
        "plt.xlabel(\"Number of iterations\")\n",
        "plt.ylabel(\"Cost\")       \n",
        "plt.legend()         \n",
        "plt.title(\"Manhattan Distance\")   \n",
        "plt.savefig(\"b.png\", dpi=300, bbox_inches=\"tight\")\n",
        "plt.show()        "
      ],
      "metadata": {
        "colab": {
          "base_uri": "https://localhost:8080/",
          "height": 472
        },
        "id": "HTx9c7FOr_lB",
        "outputId": "8f1dfd82-0d15-48e4-a93a-561a630190c7"
      },
      "execution_count": 51,
      "outputs": [
        {
          "output_type": "display_data",
          "data": {
            "text/plain": [
              "<Figure size 640x480 with 1 Axes>"
            ],
            "image/png": "[encoded data removed]"
          },
          "metadata": {}
        }
      ]
    },
    {
      "cell_type": "markdown",
      "source": [
        "## (b) 2 "
      ],
      "metadata": {
        "id": "yNSSIIJcn2Bh"
      }
    },
    {
      "cell_type": "code",
      "source": [
        "print(\"The percentage change using c1.txt and Manhattan Distance is: \", percentage_change(costs_Manhattan_c1))\n",
        "print(\"The percentage change using c2.txt and Manhattan Distance is: \", percentage_change(costs_Manhattan_c2))   "
      ],
      "metadata": {
        "colab": {
          "base_uri": "https://localhost:8080/"
        },
        "id": "unySTisqn3SG",
        "outputId": "15ba71e8-eb37-406d-b122-cfada7046bc8"
      },
      "execution_count": 47,
      "outputs": [
        {
          "output_type": "stream",
          "name": "stdout",
          "text": [
            "The percentage change using c1.txt and Manhattan Distance is:  0.1865492611679923\n",
            "The percentage change using c2.txt and Manhattan Distance is:  0.515540991023891\n"
          ]
        }
      ]
    }
  ]
}
